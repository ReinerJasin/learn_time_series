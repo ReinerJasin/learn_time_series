{
 "cells": [
  {
   "cell_type": "markdown",
   "id": "4918297e",
   "metadata": {},
   "source": [
    "# Game Plan for Exponential Smoothing and Holt-Winters"
   ]
  },
  {
   "cell_type": "markdown",
   "id": "7dc5a4ca",
   "metadata": {},
   "source": [
    "# Case Study Briefing: Customer Complaints"
   ]
  },
  {
   "cell_type": "markdown",
   "id": "1afc7d53",
   "metadata": {},
   "source": [
    "TelecoWave is a very big player in the telecom world and they're facing a challenge. Customer Complaints are all over the place. Some of the time its smooth sailing but some other time it's chaos. So they want us to predict this swing.\n",
    "\n",
    "Our objective is to:\n",
    "1. Help them achieve excellent customer service.\n",
    "2. Show our proficiency in handling data.\n",
    "\n",
    "The problem: Rollercoaster of complaints. They want to know how many Customer Service Reps they need for each week. If you get it wrong, you're either wasting resources or underestimate needs which leads to unhappy customers. So we need to craft our strategy to pick the right amount workforce."
   ]
  },
  {
   "cell_type": "code",
   "execution_count": 1,
   "id": "d4d172c7",
   "metadata": {},
   "outputs": [],
   "source": [
    "import pandas as pd\n",
    "import matplotlib.pyplot as plt"
   ]
  },
  {
   "cell_type": "code",
   "execution_count": null,
   "id": "b75a475f",
   "metadata": {},
   "outputs": [],
   "source": [
    "data = pd.read_csv(\"../dataset/bitcoin_price.csv\", index_col=\"Date\", parse_dates=True)\n",
    "data.index"
   ]
  },
  {
   "cell_type": "code",
   "execution_count": null,
   "id": "c530ed2a",
   "metadata": {},
   "outputs": [],
   "source": [
    "# Daily Closing Price Plot\n",
    "data['Close'].plot(title='Daily Closing Price')\n",
    "plt.show()"
   ]
  },
  {
   "cell_type": "code",
   "execution_count": null,
   "id": "3c464341",
   "metadata": {},
   "outputs": [],
   "source": [
    "from statsmodels.graphics.tsaplots import month_plot\n",
    "\n",
    "month_plot(data['Close'].resample('ME').mean(), ylabel='Closing')\n",
    "plt.show()"
   ]
  },
  {
   "cell_type": "code",
   "execution_count": null,
   "id": "f5522679",
   "metadata": {},
   "outputs": [],
   "source": [
    "from statsmodels.graphics.tsaplots import quarter_plot\n",
    "\n",
    "quarter_plot(data['Close'].resample('Q').mean(), ylabel='Closing')\n",
    "plt.show()"
   ]
  },
  {
   "cell_type": "code",
   "execution_count": null,
   "id": "4a4cc1b3",
   "metadata": {},
   "outputs": [],
   "source": [
    "from statsmodels.tsa.seasonal import seasonal_decompose\n",
    "\n",
    "# Seasonal Decomposition Plots for Bitcoin Data\n",
    "decomposition = seasonal_decompose(data['Close'], model='multiplicative', period=365)\n",
    "\n",
    "fig = decomposition.plot()\n",
    "fig.set_size_inches(10, 8)\n",
    "plt.show()"
   ]
  },
  {
   "cell_type": "code",
   "execution_count": null,
   "id": "6b5cbc42",
   "metadata": {},
   "outputs": [],
   "source": [
    "from statsmodels.graphics.tsaplots import plot_acf\n",
    "\n",
    "# Python Auto Correlation\n",
    "fig, ax = plt.subplots(figsize=(10,6))\n",
    "plot_acf(data['Close'], lags=100, ax=ax)\n",
    "plt.show()"
   ]
  },
  {
   "cell_type": "code",
   "execution_count": null,
   "id": "4fd068df",
   "metadata": {},
   "outputs": [],
   "source": [
    "from statsmodels.graphics.tsaplots import plot_pacf\n",
    "\n",
    "# Python Partial Auto Correlation\n",
    "fig, ax = plt.subplots(figsize=(10,6))\n",
    "plot_pacf(data['Close'], lags=100, ax=ax)\n",
    "plt.show()"
   ]
  }
 ],
 "metadata": {
  "kernelspec": {
   "display_name": "venv",
   "language": "python",
   "name": "python3"
  },
  "language_info": {
   "codemirror_mode": {
    "name": "ipython",
    "version": 3
   },
   "file_extension": ".py",
   "mimetype": "text/x-python",
   "name": "python",
   "nbconvert_exporter": "python",
   "pygments_lexer": "ipython3",
   "version": "3.12.1"
  }
 },
 "nbformat": 4,
 "nbformat_minor": 5
}
