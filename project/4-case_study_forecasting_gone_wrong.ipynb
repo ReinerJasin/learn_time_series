{
 "cells": [
  {
   "cell_type": "markdown",
   "id": "05acb83a",
   "metadata": {},
   "source": [
    "# When forecast don't quite hit the mark"
   ]
  },
  {
   "cell_type": "markdown",
   "id": "5c8db1fc",
   "metadata": {},
   "source": []
  }
 ],
 "metadata": {
  "language_info": {
   "name": "python"
  }
 },
 "nbformat": 4,
 "nbformat_minor": 5
}
