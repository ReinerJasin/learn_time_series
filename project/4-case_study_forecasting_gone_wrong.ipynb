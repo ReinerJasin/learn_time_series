{
 "cells": [
  {
   "cell_type": "markdown",
   "id": "05acb83a",
   "metadata": {},
   "source": [
    "# When forecast don't quite hit the mark"
   ]
  },
  {
   "cell_type": "markdown",
   "id": "5c8db1fc",
   "metadata": {},
   "source": [
    "## 1. The Rise & Fall of Fidget Spinners\n",
    "\n",
    "Fidget spinners was a hit in school in such an instant time. Manufacturers thought they had hit the jackpot, the production ramped up like crazy. But suddenly, they piled up too many stocks without anyone who wants to buy it. They mistakenly take a fleeting trend as a longlasting trend. When we face a trend, we have to ask ourselves whether it is a longlasting trend or maybe it is just a passing craze."
   ]
  },
  {
   "cell_type": "markdown",
   "id": "6b83b029",
   "metadata": {},
   "source": [
    "## 2. Long-Term Capital Management's Mathematical Mishaps\n",
    "\n",
    "LTCM is like the rock star of the hedge fund world. The idea is to use complex mathematical model to predict market movement. For a while it was like they had found the secret formula. They are able to make money for a while until The Russia Financial Crisis happened in 1998, and the LTCM model didn't expect this to happen. The market crashed and the money is all gone. The markets are wild beast & sometimes they can throw curveball that no algorithm can catch."
   ]
  },
  {
   "cell_type": "markdown",
   "id": "f1884af9",
   "metadata": {},
   "source": [
    "## 3. Google Flu Trends\n",
    "\n",
    "This was Google's attempt to predict flu outbreak using what people were searching for online. They thought that if people start sarching for flu symptomps, it would indicate that flu outbreak is happening. At first, it seemed like a groundbreaking way to use big data for public health. But it didn't work out. Google flu trends ended up overestimating flu cases, sometimes way off the mark. It turns out that how & why people search up for things can change a lot & Google's search algorithms kept changing too."
   ]
  },
  {
   "cell_type": "markdown",
   "id": "a47895fe",
   "metadata": {},
   "source": [
    "## 4. The Hindenburg Omen\n",
    "\n",
    "It's a complex technical indicator used to predict stock market crashes. It's named after the Hindenburg Airship Disaster. The idea is that certain market conditions like the number of stock hitting new highs or lows can signal a big crash. But this method sometimes signal a crash the never actually happened causing unnecesarry panic. Some other times, it misses the mark completely.\n",
    "\n",
    "The Hindenburg Omen shows that even the most complex& intriguing indicator can mislead us if we rely too heavily on them without considering the bigger picture."
   ]
  },
  {
   "cell_type": "markdown",
   "id": "40c797f5",
   "metadata": {},
   "source": [
    "## Conclusion: Embracing the Unpredictability\n",
    "\n",
    "The world is full of surprises and no model can predict everything with 100% precision and accuracy."
   ]
  }
 ],
 "metadata": {
  "language_info": {
   "name": "python"
  }
 },
 "nbformat": 4,
 "nbformat_minor": 5
}
