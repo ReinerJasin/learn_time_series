{
 "cells": [
  {
   "cell_type": "markdown",
   "id": "6e5f5030",
   "metadata": {},
   "source": [
    "# Import Libraries"
   ]
  },
  {
   "cell_type": "code",
   "execution_count": 25,
   "id": "8f6bea4b",
   "metadata": {},
   "outputs": [],
   "source": [
    "import pandas as pd\n",
    "import matplotlib.pyplot as plt"
   ]
  },
  {
   "cell_type": "markdown",
   "id": "c2c905df",
   "metadata": {},
   "source": [
    "# Import dataset"
   ]
  },
  {
   "cell_type": "code",
   "execution_count": 3,
   "id": "aeba32de",
   "metadata": {},
   "outputs": [
    {
     "data": {
      "text/html": [
       "<div>\n",
       "<style scoped>\n",
       "    .dataframe tbody tr th:only-of-type {\n",
       "        vertical-align: middle;\n",
       "    }\n",
       "\n",
       "    .dataframe tbody tr th {\n",
       "        vertical-align: top;\n",
       "    }\n",
       "\n",
       "    .dataframe thead th {\n",
       "        text-align: right;\n",
       "    }\n",
       "</style>\n",
       "<table border=\"1\" class=\"dataframe\">\n",
       "  <thead>\n",
       "    <tr style=\"text-align: right;\">\n",
       "      <th></th>\n",
       "      <th>Date</th>\n",
       "      <th>Open</th>\n",
       "      <th>High</th>\n",
       "      <th>Low</th>\n",
       "      <th>Close</th>\n",
       "      <th>Adj Close</th>\n",
       "      <th>Volume</th>\n",
       "    </tr>\n",
       "  </thead>\n",
       "  <tbody>\n",
       "    <tr>\n",
       "      <th>0</th>\n",
       "      <td>2014-09-17</td>\n",
       "      <td>465.864014</td>\n",
       "      <td>468.174011</td>\n",
       "      <td>452.421997</td>\n",
       "      <td>457.334015</td>\n",
       "      <td>457.334015</td>\n",
       "      <td>21056800</td>\n",
       "    </tr>\n",
       "    <tr>\n",
       "      <th>1</th>\n",
       "      <td>2014-09-18</td>\n",
       "      <td>456.859985</td>\n",
       "      <td>456.859985</td>\n",
       "      <td>413.104004</td>\n",
       "      <td>424.440002</td>\n",
       "      <td>424.440002</td>\n",
       "      <td>34483200</td>\n",
       "    </tr>\n",
       "    <tr>\n",
       "      <th>2</th>\n",
       "      <td>2014-09-19</td>\n",
       "      <td>424.102997</td>\n",
       "      <td>427.834991</td>\n",
       "      <td>384.532013</td>\n",
       "      <td>394.795990</td>\n",
       "      <td>394.795990</td>\n",
       "      <td>37919700</td>\n",
       "    </tr>\n",
       "    <tr>\n",
       "      <th>3</th>\n",
       "      <td>2014-09-20</td>\n",
       "      <td>394.673004</td>\n",
       "      <td>423.295990</td>\n",
       "      <td>389.882996</td>\n",
       "      <td>408.903992</td>\n",
       "      <td>408.903992</td>\n",
       "      <td>36863600</td>\n",
       "    </tr>\n",
       "    <tr>\n",
       "      <th>4</th>\n",
       "      <td>2014-09-21</td>\n",
       "      <td>408.084991</td>\n",
       "      <td>412.425995</td>\n",
       "      <td>393.181000</td>\n",
       "      <td>398.821014</td>\n",
       "      <td>398.821014</td>\n",
       "      <td>26580100</td>\n",
       "    </tr>\n",
       "  </tbody>\n",
       "</table>\n",
       "</div>"
      ],
      "text/plain": [
       "         Date        Open        High         Low       Close   Adj Close  \\\n",
       "0  2014-09-17  465.864014  468.174011  452.421997  457.334015  457.334015   \n",
       "1  2014-09-18  456.859985  456.859985  413.104004  424.440002  424.440002   \n",
       "2  2014-09-19  424.102997  427.834991  384.532013  394.795990  394.795990   \n",
       "3  2014-09-20  394.673004  423.295990  389.882996  408.903992  408.903992   \n",
       "4  2014-09-21  408.084991  412.425995  393.181000  398.821014  398.821014   \n",
       "\n",
       "     Volume  \n",
       "0  21056800  \n",
       "1  34483200  \n",
       "2  37919700  \n",
       "3  36863600  \n",
       "4  26580100  "
      ]
     },
     "execution_count": 3,
     "metadata": {},
     "output_type": "execute_result"
    }
   ],
   "source": [
    "data = pd.read_csv('../dataset/bitcoin_price.csv')\n",
    "data.head()"
   ]
  },
  {
   "cell_type": "markdown",
   "id": "84d3244e",
   "metadata": {},
   "source": [
    "# Time Series Index"
   ]
  },
  {
   "cell_type": "code",
   "execution_count": 4,
   "id": "89c9bbf2",
   "metadata": {},
   "outputs": [
    {
     "data": {
      "text/html": [
       "<div>\n",
       "<style scoped>\n",
       "    .dataframe tbody tr th:only-of-type {\n",
       "        vertical-align: middle;\n",
       "    }\n",
       "\n",
       "    .dataframe tbody tr th {\n",
       "        vertical-align: top;\n",
       "    }\n",
       "\n",
       "    .dataframe thead th {\n",
       "        text-align: right;\n",
       "    }\n",
       "</style>\n",
       "<table border=\"1\" class=\"dataframe\">\n",
       "  <thead>\n",
       "    <tr style=\"text-align: right;\">\n",
       "      <th></th>\n",
       "      <th>Open</th>\n",
       "      <th>High</th>\n",
       "      <th>Low</th>\n",
       "      <th>Close</th>\n",
       "      <th>Adj Close</th>\n",
       "      <th>Volume</th>\n",
       "    </tr>\n",
       "    <tr>\n",
       "      <th>Date</th>\n",
       "      <th></th>\n",
       "      <th></th>\n",
       "      <th></th>\n",
       "      <th></th>\n",
       "      <th></th>\n",
       "      <th></th>\n",
       "    </tr>\n",
       "  </thead>\n",
       "  <tbody>\n",
       "    <tr>\n",
       "      <th>2014-09-17</th>\n",
       "      <td>465.864014</td>\n",
       "      <td>468.174011</td>\n",
       "      <td>452.421997</td>\n",
       "      <td>457.334015</td>\n",
       "      <td>457.334015</td>\n",
       "      <td>21056800</td>\n",
       "    </tr>\n",
       "    <tr>\n",
       "      <th>2014-09-18</th>\n",
       "      <td>456.859985</td>\n",
       "      <td>456.859985</td>\n",
       "      <td>413.104004</td>\n",
       "      <td>424.440002</td>\n",
       "      <td>424.440002</td>\n",
       "      <td>34483200</td>\n",
       "    </tr>\n",
       "    <tr>\n",
       "      <th>2014-09-19</th>\n",
       "      <td>424.102997</td>\n",
       "      <td>427.834991</td>\n",
       "      <td>384.532013</td>\n",
       "      <td>394.795990</td>\n",
       "      <td>394.795990</td>\n",
       "      <td>37919700</td>\n",
       "    </tr>\n",
       "    <tr>\n",
       "      <th>2014-09-20</th>\n",
       "      <td>394.673004</td>\n",
       "      <td>423.295990</td>\n",
       "      <td>389.882996</td>\n",
       "      <td>408.903992</td>\n",
       "      <td>408.903992</td>\n",
       "      <td>36863600</td>\n",
       "    </tr>\n",
       "    <tr>\n",
       "      <th>2014-09-21</th>\n",
       "      <td>408.084991</td>\n",
       "      <td>412.425995</td>\n",
       "      <td>393.181000</td>\n",
       "      <td>398.821014</td>\n",
       "      <td>398.821014</td>\n",
       "      <td>26580100</td>\n",
       "    </tr>\n",
       "  </tbody>\n",
       "</table>\n",
       "</div>"
      ],
      "text/plain": [
       "                  Open        High         Low       Close   Adj Close  \\\n",
       "Date                                                                     \n",
       "2014-09-17  465.864014  468.174011  452.421997  457.334015  457.334015   \n",
       "2014-09-18  456.859985  456.859985  413.104004  424.440002  424.440002   \n",
       "2014-09-19  424.102997  427.834991  384.532013  394.795990  394.795990   \n",
       "2014-09-20  394.673004  423.295990  389.882996  408.903992  408.903992   \n",
       "2014-09-21  408.084991  412.425995  393.181000  398.821014  398.821014   \n",
       "\n",
       "              Volume  \n",
       "Date                  \n",
       "2014-09-17  21056800  \n",
       "2014-09-18  34483200  \n",
       "2014-09-19  37919700  \n",
       "2014-09-20  36863600  \n",
       "2014-09-21  26580100  "
      ]
     },
     "execution_count": 4,
     "metadata": {},
     "output_type": "execute_result"
    }
   ],
   "source": [
    "# Convert 'Date' to datetune and set as index\n",
    "data['Date'] = pd.to_datetime(data['Date'], format = \"%Y-%m-%d\")\n",
    "data.set_index('Date', inplace=True)\n",
    "data.head()"
   ]
  },
  {
   "cell_type": "code",
   "execution_count": 5,
   "id": "d0530662",
   "metadata": {},
   "outputs": [
    {
     "data": {
      "text/plain": [
       "Open         3.787998e+04\n",
       "High         3.793462e+04\n",
       "Low          3.554547e+04\n",
       "Close        3.615477e+04\n",
       "Adj Close    3.615477e+04\n",
       "Volume       2.600739e+10\n",
       "Name: 2023-11-16 00:00:00, dtype: float64"
      ]
     },
     "execution_count": 5,
     "metadata": {},
     "output_type": "execute_result"
    }
   ],
   "source": [
    "# Select the Bitcoin Data for\n",
    "# data.loc['2023']          # Select by year\n",
    "# data.loc['2023-11']       # Select by year and month\n",
    "data.loc['2023-11-16']      # Select by year, month, and date"
   ]
  },
  {
   "cell_type": "code",
   "execution_count": 6,
   "id": "045d1e77",
   "metadata": {},
   "outputs": [
    {
     "data": {
      "text/plain": [
       "DatetimeIndex(['2014-09-17', '2014-09-18', '2014-09-19', '2014-09-20',\n",
       "               '2014-09-21', '2014-09-22', '2014-09-23', '2014-09-24',\n",
       "               '2014-09-25', '2014-09-26',\n",
       "               ...\n",
       "               '2023-12-21', '2023-12-22', '2023-12-23', '2023-12-24',\n",
       "               '2023-12-25', '2023-12-26', '2023-12-27', '2023-12-28',\n",
       "               '2023-12-29', '2023-12-30'],\n",
       "              dtype='datetime64[ns]', name='Date', length=3392, freq=None)"
      ]
     },
     "execution_count": 6,
     "metadata": {},
     "output_type": "execute_result"
    }
   ],
   "source": [
    "data.index"
   ]
  },
  {
   "cell_type": "markdown",
   "id": "a223298c",
   "metadata": {},
   "source": [
    "Another shorter approach is to use pd.read_csv with some arguments."
   ]
  },
  {
   "cell_type": "code",
   "execution_count": 7,
   "id": "79be7f0f",
   "metadata": {},
   "outputs": [
    {
     "data": {
      "text/html": [
       "<div>\n",
       "<style scoped>\n",
       "    .dataframe tbody tr th:only-of-type {\n",
       "        vertical-align: middle;\n",
       "    }\n",
       "\n",
       "    .dataframe tbody tr th {\n",
       "        vertical-align: top;\n",
       "    }\n",
       "\n",
       "    .dataframe thead th {\n",
       "        text-align: right;\n",
       "    }\n",
       "</style>\n",
       "<table border=\"1\" class=\"dataframe\">\n",
       "  <thead>\n",
       "    <tr style=\"text-align: right;\">\n",
       "      <th></th>\n",
       "      <th>Open</th>\n",
       "      <th>High</th>\n",
       "      <th>Low</th>\n",
       "      <th>Close</th>\n",
       "      <th>Adj Close</th>\n",
       "      <th>Volume</th>\n",
       "    </tr>\n",
       "    <tr>\n",
       "      <th>Date</th>\n",
       "      <th></th>\n",
       "      <th></th>\n",
       "      <th></th>\n",
       "      <th></th>\n",
       "      <th></th>\n",
       "      <th></th>\n",
       "    </tr>\n",
       "  </thead>\n",
       "  <tbody>\n",
       "    <tr>\n",
       "      <th>2014-09-17</th>\n",
       "      <td>465.864014</td>\n",
       "      <td>468.174011</td>\n",
       "      <td>452.421997</td>\n",
       "      <td>457.334015</td>\n",
       "      <td>457.334015</td>\n",
       "      <td>21056800</td>\n",
       "    </tr>\n",
       "    <tr>\n",
       "      <th>2014-09-18</th>\n",
       "      <td>456.859985</td>\n",
       "      <td>456.859985</td>\n",
       "      <td>413.104004</td>\n",
       "      <td>424.440002</td>\n",
       "      <td>424.440002</td>\n",
       "      <td>34483200</td>\n",
       "    </tr>\n",
       "    <tr>\n",
       "      <th>2014-09-19</th>\n",
       "      <td>424.102997</td>\n",
       "      <td>427.834991</td>\n",
       "      <td>384.532013</td>\n",
       "      <td>394.795990</td>\n",
       "      <td>394.795990</td>\n",
       "      <td>37919700</td>\n",
       "    </tr>\n",
       "    <tr>\n",
       "      <th>2014-09-20</th>\n",
       "      <td>394.673004</td>\n",
       "      <td>423.295990</td>\n",
       "      <td>389.882996</td>\n",
       "      <td>408.903992</td>\n",
       "      <td>408.903992</td>\n",
       "      <td>36863600</td>\n",
       "    </tr>\n",
       "    <tr>\n",
       "      <th>2014-09-21</th>\n",
       "      <td>408.084991</td>\n",
       "      <td>412.425995</td>\n",
       "      <td>393.181000</td>\n",
       "      <td>398.821014</td>\n",
       "      <td>398.821014</td>\n",
       "      <td>26580100</td>\n",
       "    </tr>\n",
       "  </tbody>\n",
       "</table>\n",
       "</div>"
      ],
      "text/plain": [
       "                  Open        High         Low       Close   Adj Close  \\\n",
       "Date                                                                     \n",
       "2014-09-17  465.864014  468.174011  452.421997  457.334015  457.334015   \n",
       "2014-09-18  456.859985  456.859985  413.104004  424.440002  424.440002   \n",
       "2014-09-19  424.102997  427.834991  384.532013  394.795990  394.795990   \n",
       "2014-09-20  394.673004  423.295990  389.882996  408.903992  408.903992   \n",
       "2014-09-21  408.084991  412.425995  393.181000  398.821014  398.821014   \n",
       "\n",
       "              Volume  \n",
       "Date                  \n",
       "2014-09-17  21056800  \n",
       "2014-09-18  34483200  \n",
       "2014-09-19  37919700  \n",
       "2014-09-20  36863600  \n",
       "2014-09-21  26580100  "
      ]
     },
     "execution_count": 7,
     "metadata": {},
     "output_type": "execute_result"
    }
   ],
   "source": [
    "# Loading the Data and Setting the index\n",
    "otherdata = pd.read_csv(\"../dataset/bitcoin_price.csv\", index_col=\"Date\")\n",
    "otherdata.head()"
   ]
  },
  {
   "cell_type": "code",
   "execution_count": 8,
   "id": "038674f3",
   "metadata": {},
   "outputs": [
    {
     "data": {
      "text/plain": [
       "Index(['2014-09-17', '2014-09-18', '2014-09-19', '2014-09-20', '2014-09-21',\n",
       "       '2014-09-22', '2014-09-23', '2014-09-24', '2014-09-25', '2014-09-26',\n",
       "       ...\n",
       "       '2023-12-21', '2023-12-22', '2023-12-23', '2023-12-24', '2023-12-25',\n",
       "       '2023-12-26', '2023-12-27', '2023-12-28', '2023-12-29', '2023-12-30'],\n",
       "      dtype='object', name='Date', length=3392)"
      ]
     },
     "execution_count": 8,
     "metadata": {},
     "output_type": "execute_result"
    }
   ],
   "source": [
    "otherdata.index"
   ]
  },
  {
   "cell_type": "markdown",
   "id": "3c37a0c2",
   "metadata": {},
   "source": [
    "The dtype is object, which is not what we want, the standard for timeseries is a datetime data type. we can do it by adding the parse_date arguments like below."
   ]
  },
  {
   "cell_type": "code",
   "execution_count": 9,
   "id": "4cfe0d42",
   "metadata": {},
   "outputs": [
    {
     "data": {
      "text/plain": [
       "DatetimeIndex(['2014-09-17', '2014-09-18', '2014-09-19', '2014-09-20',\n",
       "               '2014-09-21', '2014-09-22', '2014-09-23', '2014-09-24',\n",
       "               '2014-09-25', '2014-09-26',\n",
       "               ...\n",
       "               '2023-12-21', '2023-12-22', '2023-12-23', '2023-12-24',\n",
       "               '2023-12-25', '2023-12-26', '2023-12-27', '2023-12-28',\n",
       "               '2023-12-29', '2023-12-30'],\n",
       "              dtype='datetime64[ns]', name='Date', length=3392, freq=None)"
      ]
     },
     "execution_count": 9,
     "metadata": {},
     "output_type": "execute_result"
    }
   ],
   "source": [
    "otherdata = pd.read_csv(\"../dataset/bitcoin_price.csv\", index_col=\"Date\", parse_dates=True)\n",
    "otherdata.index"
   ]
  },
  {
   "cell_type": "markdown",
   "id": "cdee2624",
   "metadata": {},
   "source": [
    "Now the dtype for the index is correct."
   ]
  },
  {
   "cell_type": "code",
   "execution_count": 10,
   "id": "1c7c0ff5",
   "metadata": {},
   "outputs": [
    {
     "name": "stderr",
     "output_type": "stream",
     "text": [
      "/var/folders/9_/fy5p9d_52f9d3dxp8df05zlc0000gn/T/ipykernel_84990/3855149256.py:2: FutureWarning: 'M' is deprecated and will be removed in a future version, please use 'ME' instead.\n",
      "  data.resample('M').mean()           # M for monthly, W for weekly\n"
     ]
    },
    {
     "data": {
      "text/html": [
       "<div>\n",
       "<style scoped>\n",
       "    .dataframe tbody tr th:only-of-type {\n",
       "        vertical-align: middle;\n",
       "    }\n",
       "\n",
       "    .dataframe tbody tr th {\n",
       "        vertical-align: top;\n",
       "    }\n",
       "\n",
       "    .dataframe thead th {\n",
       "        text-align: right;\n",
       "    }\n",
       "</style>\n",
       "<table border=\"1\" class=\"dataframe\">\n",
       "  <thead>\n",
       "    <tr style=\"text-align: right;\">\n",
       "      <th></th>\n",
       "      <th>Open</th>\n",
       "      <th>High</th>\n",
       "      <th>Low</th>\n",
       "      <th>Close</th>\n",
       "      <th>Adj Close</th>\n",
       "      <th>Volume</th>\n",
       "    </tr>\n",
       "    <tr>\n",
       "      <th>Date</th>\n",
       "      <th></th>\n",
       "      <th></th>\n",
       "      <th></th>\n",
       "      <th></th>\n",
       "      <th></th>\n",
       "      <th></th>\n",
       "    </tr>\n",
       "  </thead>\n",
       "  <tbody>\n",
       "    <tr>\n",
       "      <th>2014-09-30</th>\n",
       "      <td>412.654003</td>\n",
       "      <td>421.104422</td>\n",
       "      <td>398.174641</td>\n",
       "      <td>407.182428</td>\n",
       "      <td>407.182428</td>\n",
       "      <td>2.934864e+07</td>\n",
       "    </tr>\n",
       "    <tr>\n",
       "      <th>2014-10-31</th>\n",
       "      <td>365.748000</td>\n",
       "      <td>374.314260</td>\n",
       "      <td>354.856645</td>\n",
       "      <td>364.148873</td>\n",
       "      <td>364.148873</td>\n",
       "      <td>2.912885e+07</td>\n",
       "    </tr>\n",
       "    <tr>\n",
       "      <th>2014-11-30</th>\n",
       "      <td>364.850235</td>\n",
       "      <td>376.494235</td>\n",
       "      <td>357.241831</td>\n",
       "      <td>366.099799</td>\n",
       "      <td>366.099799</td>\n",
       "      <td>2.199111e+07</td>\n",
       "    </tr>\n",
       "    <tr>\n",
       "      <th>2014-12-31</th>\n",
       "      <td>343.074836</td>\n",
       "      <td>347.487129</td>\n",
       "      <td>336.565775</td>\n",
       "      <td>341.267871</td>\n",
       "      <td>341.267871</td>\n",
       "      <td>1.784201e+07</td>\n",
       "    </tr>\n",
       "    <tr>\n",
       "      <th>2015-01-31</th>\n",
       "      <td>251.799905</td>\n",
       "      <td>261.391583</td>\n",
       "      <td>240.495550</td>\n",
       "      <td>248.782547</td>\n",
       "      <td>248.782547</td>\n",
       "      <td>3.544555e+07</td>\n",
       "    </tr>\n",
       "    <tr>\n",
       "      <th>...</th>\n",
       "      <td>...</td>\n",
       "      <td>...</td>\n",
       "      <td>...</td>\n",
       "      <td>...</td>\n",
       "      <td>...</td>\n",
       "      <td>...</td>\n",
       "    </tr>\n",
       "    <tr>\n",
       "      <th>2023-08-31</th>\n",
       "      <td>27959.756615</td>\n",
       "      <td>28204.527722</td>\n",
       "      <td>27517.854587</td>\n",
       "      <td>27852.792843</td>\n",
       "      <td>27852.792843</td>\n",
       "      <td>1.412013e+10</td>\n",
       "    </tr>\n",
       "    <tr>\n",
       "      <th>2023-09-30</th>\n",
       "      <td>26271.268229</td>\n",
       "      <td>26573.941862</td>\n",
       "      <td>26041.182292</td>\n",
       "      <td>26306.136393</td>\n",
       "      <td>26306.136393</td>\n",
       "      <td>1.125458e+10</td>\n",
       "    </tr>\n",
       "    <tr>\n",
       "      <th>2023-10-31</th>\n",
       "      <td>29511.811114</td>\n",
       "      <td>30155.900454</td>\n",
       "      <td>29235.543977</td>\n",
       "      <td>29755.895161</td>\n",
       "      <td>29755.895161</td>\n",
       "      <td>1.536857e+10</td>\n",
       "    </tr>\n",
       "    <tr>\n",
       "      <th>2023-11-30</th>\n",
       "      <td>36491.666667</td>\n",
       "      <td>37092.602214</td>\n",
       "      <td>35960.923698</td>\n",
       "      <td>36596.164844</td>\n",
       "      <td>36596.164844</td>\n",
       "      <td>1.902878e+10</td>\n",
       "    </tr>\n",
       "    <tr>\n",
       "      <th>2023-12-31</th>\n",
       "      <td>42409.761589</td>\n",
       "      <td>43174.436589</td>\n",
       "      <td>41704.030339</td>\n",
       "      <td>42556.283724</td>\n",
       "      <td>42556.283724</td>\n",
       "      <td>2.351025e+10</td>\n",
       "    </tr>\n",
       "  </tbody>\n",
       "</table>\n",
       "<p>112 rows × 6 columns</p>\n",
       "</div>"
      ],
      "text/plain": [
       "                    Open          High           Low         Close  \\\n",
       "Date                                                                 \n",
       "2014-09-30    412.654003    421.104422    398.174641    407.182428   \n",
       "2014-10-31    365.748000    374.314260    354.856645    364.148873   \n",
       "2014-11-30    364.850235    376.494235    357.241831    366.099799   \n",
       "2014-12-31    343.074836    347.487129    336.565775    341.267871   \n",
       "2015-01-31    251.799905    261.391583    240.495550    248.782547   \n",
       "...                  ...           ...           ...           ...   \n",
       "2023-08-31  27959.756615  28204.527722  27517.854587  27852.792843   \n",
       "2023-09-30  26271.268229  26573.941862  26041.182292  26306.136393   \n",
       "2023-10-31  29511.811114  30155.900454  29235.543977  29755.895161   \n",
       "2023-11-30  36491.666667  37092.602214  35960.923698  36596.164844   \n",
       "2023-12-31  42409.761589  43174.436589  41704.030339  42556.283724   \n",
       "\n",
       "               Adj Close        Volume  \n",
       "Date                                    \n",
       "2014-09-30    407.182428  2.934864e+07  \n",
       "2014-10-31    364.148873  2.912885e+07  \n",
       "2014-11-30    366.099799  2.199111e+07  \n",
       "2014-12-31    341.267871  1.784201e+07  \n",
       "2015-01-31    248.782547  3.544555e+07  \n",
       "...                  ...           ...  \n",
       "2023-08-31  27852.792843  1.412013e+10  \n",
       "2023-09-30  26306.136393  1.125458e+10  \n",
       "2023-10-31  29755.895161  1.536857e+10  \n",
       "2023-11-30  36596.164844  1.902878e+10  \n",
       "2023-12-31  42556.283724  2.351025e+10  \n",
       "\n",
       "[112 rows x 6 columns]"
      ]
     },
     "execution_count": 10,
     "metadata": {},
     "output_type": "execute_result"
    }
   ],
   "source": [
    "# Resampling to monthly frequency and calculate the mean closing price\n",
    "data.resample('M').mean()           # M for monthly, W for weekly"
   ]
  },
  {
   "cell_type": "markdown",
   "id": "587e1e53",
   "metadata": {},
   "source": [
    "# Exploring Data"
   ]
  },
  {
   "cell_type": "markdown",
   "id": "6bfbb6f7",
   "metadata": {},
   "source": [
    "We'll look at some key metrics used for time series data"
   ]
  },
  {
   "cell_type": "code",
   "execution_count": 29,
   "id": "e41300b1",
   "metadata": {},
   "outputs": [
    {
     "data": {
      "image/png": "[encoded data removed]",
      "text/plain": [
       "<Figure size 640x480 with 1 Axes>"
      ]
     },
     "metadata": {},
     "output_type": "display_data"
    }
   ],
   "source": [
    "# 7-Day rolling average of the closing price\n",
    "data['7_day_rolling'] = data['Close'].rolling(window=7).mean()\n",
    "data[['Close', '7_day_rolling']].loc['2023'].plot()\n",
    "plt.show()"
   ]
  },
  {
   "cell_type": "code",
   "execution_count": 33,
   "id": "d0de7acc",
   "metadata": {},
   "outputs": [
    {
     "data": {
      "text/plain": [
       "Timestamp('2021-11-30 00:00:00')"
      ]
     },
     "execution_count": 33,
     "metadata": {},
     "output_type": "execute_result"
    }
   ],
   "source": [
    "# Find out the highest average month\n",
    "data.resample('ME').mean()['Close'].idxmax()"
   ]
  },
  {
   "cell_type": "markdown",
   "id": "4b1c6685",
   "metadata": {},
   "source": [
    "we can calculate daily returns such as if the closing value today is 101 and tomorrow is 100, meaning we have 1% return. We can do it simply by using pct_change()."
   ]
  },
  {
   "cell_type": "code",
   "execution_count": 37,
   "id": "af52b86d",
   "metadata": {},
   "outputs": [],
   "source": [
    "# Calculate Daily Returns\n",
    "data['daily_returns'] = data['Close'].pct_change() * 100"
   ]
  },
  {
   "cell_type": "code",
   "execution_count": 39,
   "id": "3f16fc2a",
   "metadata": {},
   "outputs": [
    {
     "data": {
      "text/html": [
       "<div>\n",
       "<style scoped>\n",
       "    .dataframe tbody tr th:only-of-type {\n",
       "        vertical-align: middle;\n",
       "    }\n",
       "\n",
       "    .dataframe tbody tr th {\n",
       "        vertical-align: top;\n",
       "    }\n",
       "\n",
       "    .dataframe thead th {\n",
       "        text-align: right;\n",
       "    }\n",
       "</style>\n",
       "<table border=\"1\" class=\"dataframe\">\n",
       "  <thead>\n",
       "    <tr style=\"text-align: right;\">\n",
       "      <th></th>\n",
       "      <th>Open</th>\n",
       "      <th>High</th>\n",
       "      <th>Low</th>\n",
       "      <th>Close</th>\n",
       "      <th>Adj Close</th>\n",
       "      <th>Volume</th>\n",
       "      <th>7_day_rolling</th>\n",
       "      <th>daily_returns</th>\n",
       "    </tr>\n",
       "    <tr>\n",
       "      <th>Date</th>\n",
       "      <th></th>\n",
       "      <th></th>\n",
       "      <th></th>\n",
       "      <th></th>\n",
       "      <th></th>\n",
       "      <th></th>\n",
       "      <th></th>\n",
       "      <th></th>\n",
       "    </tr>\n",
       "  </thead>\n",
       "  <tbody>\n",
       "    <tr>\n",
       "      <th>2014-11-12</th>\n",
       "      <td>367.984985</td>\n",
       "      <td>429.717987</td>\n",
       "      <td>367.984985</td>\n",
       "      <td>423.561005</td>\n",
       "      <td>423.561005</td>\n",
       "      <td>45783200</td>\n",
       "      <td>365.519579</td>\n",
       "      <td>15.193570</td>\n",
       "    </tr>\n",
       "    <tr>\n",
       "      <th>2015-01-03</th>\n",
       "      <td>314.846008</td>\n",
       "      <td>315.149994</td>\n",
       "      <td>281.082001</td>\n",
       "      <td>281.082001</td>\n",
       "      <td>281.082001</td>\n",
       "      <td>33054400</td>\n",
       "      <td>310.171718</td>\n",
       "      <td>-10.776686</td>\n",
       "    </tr>\n",
       "    <tr>\n",
       "      <th>2015-01-13</th>\n",
       "      <td>267.394012</td>\n",
       "      <td>268.277008</td>\n",
       "      <td>219.906006</td>\n",
       "      <td>225.860992</td>\n",
       "      <td>225.860992</td>\n",
       "      <td>72843904</td>\n",
       "      <td>271.743853</td>\n",
       "      <td>-15.659308</td>\n",
       "    </tr>\n",
       "    <tr>\n",
       "      <th>2015-01-14</th>\n",
       "      <td>223.893997</td>\n",
       "      <td>223.893997</td>\n",
       "      <td>171.509995</td>\n",
       "      <td>178.102997</td>\n",
       "      <td>178.102997</td>\n",
       "      <td>97638704</td>\n",
       "      <td>255.138994</td>\n",
       "      <td>-21.144862</td>\n",
       "    </tr>\n",
       "    <tr>\n",
       "      <th>2015-01-15</th>\n",
       "      <td>176.897003</td>\n",
       "      <td>229.067001</td>\n",
       "      <td>176.897003</td>\n",
       "      <td>209.843994</td>\n",
       "      <td>209.843994</td>\n",
       "      <td>81773504</td>\n",
       "      <td>244.638280</td>\n",
       "      <td>17.821709</td>\n",
       "    </tr>\n",
       "  </tbody>\n",
       "</table>\n",
       "</div>"
      ],
      "text/plain": [
       "                  Open        High         Low       Close   Adj Close  \\\n",
       "Date                                                                     \n",
       "2014-11-12  367.984985  429.717987  367.984985  423.561005  423.561005   \n",
       "2015-01-03  314.846008  315.149994  281.082001  281.082001  281.082001   \n",
       "2015-01-13  267.394012  268.277008  219.906006  225.860992  225.860992   \n",
       "2015-01-14  223.893997  223.893997  171.509995  178.102997  178.102997   \n",
       "2015-01-15  176.897003  229.067001  176.897003  209.843994  209.843994   \n",
       "\n",
       "              Volume  7_day_rolling  daily_returns  \n",
       "Date                                                \n",
       "2014-11-12  45783200     365.519579      15.193570  \n",
       "2015-01-03  33054400     310.171718     -10.776686  \n",
       "2015-01-13  72843904     271.743853     -15.659308  \n",
       "2015-01-14  97638704     255.138994     -21.144862  \n",
       "2015-01-15  81773504     244.638280      17.821709  "
      ]
     },
     "execution_count": 39,
     "metadata": {},
     "output_type": "execute_result"
    }
   ],
   "source": [
    "# Days with more than 10% change in closing price\n",
    "data[abs(data['daily_returns']) > 10].head()"
   ]
  },
  {
   "cell_type": "markdown",
   "id": "5eba572b",
   "metadata": {},
   "source": [
    "# Data Visualization"
   ]
  },
  {
   "cell_type": "code",
   "execution_count": 42,
   "id": "c90a866a",
   "metadata": {},
   "outputs": [
    {
     "data": {
      "image/png": "[encoded data removed]",
      "text/plain": [
       "<Figure size 640x480 with 1 Axes>"
      ]
     },
     "metadata": {},
     "output_type": "display_data"
    }
   ],
   "source": [
    "# Daily Closing Price Plot\n",
    "data['Close'].plot(title='Daily Closing Price')\n",
    "plt.show()"
   ]
  },
  {
   "cell_type": "code",
   "execution_count": 47,
   "id": "eeae8c47",
   "metadata": {},
   "outputs": [
    {
     "name": "stderr",
     "output_type": "stream",
     "text": [
      "/var/folders/9_/fy5p9d_52f9d3dxp8df05zlc0000gn/T/ipykernel_84990/1941137415.py:2: FutureWarning: 'Y' is deprecated and will be removed in a future version, please use 'YE' instead.\n",
      "  data.resample('Y').sum()['Volume'].plot()\n"
     ]
    },
    {
     "data": {
      "image/png": "[encoded data removed]",
      "text/plain": [
       "<Figure size 640x480 with 1 Axes>"
      ]
     },
     "metadata": {},
     "output_type": "display_data"
    }
   ],
   "source": [
    "# Plot the yearly volume\n",
    "data.resample('Y').sum()['Volume'].plot()\n",
    "plt.show()"
   ]
  },
  {
   "cell_type": "code",
   "execution_count": null,
   "id": "5a1c00fe",
   "metadata": {},
   "outputs": [
    {
     "data": {
      "image/png": "[encoded data removed]",
      "text/plain": [
       "<Figure size 640x480 with 2 Axes>"
      ]
     },
     "metadata": {},
     "output_type": "display_data"
    }
   ],
   "source": [
    "# Plot Closing price and 30-day rolling volume\n",
    "data['30_day_rolling_vol'] = data['Volume'].rolling(window=30).mean()\n",
    "data['30_day_rolling_vol'].plot(legend=True)\n",
    "ax = data['Close'].plot(secondary_y=True, legend=True)\n",
    "ax.set_ylabel('Volume')\n",
    "plt.show()"
   ]
  },
  {
   "cell_type": "code",
   "execution_count": null,
   "id": "d55cab3f",
   "metadata": {},
   "outputs": [
    {
     "data": {
      "text/html": [
       "<div>\n",
       "<style scoped>\n",
       "    .dataframe tbody tr th:only-of-type {\n",
       "        vertical-align: middle;\n",
       "    }\n",
       "\n",
       "    .dataframe tbody tr th {\n",
       "        vertical-align: top;\n",
       "    }\n",
       "\n",
       "    .dataframe thead th {\n",
       "        text-align: right;\n",
       "    }\n",
       "</style>\n",
       "<table border=\"1\" class=\"dataframe\">\n",
       "  <thead>\n",
       "    <tr style=\"text-align: right;\">\n",
       "      <th></th>\n",
       "      <th>Close</th>\n",
       "      <th>30_day_rolling_vol</th>\n",
       "    </tr>\n",
       "  </thead>\n",
       "  <tbody>\n",
       "    <tr>\n",
       "      <th>Close</th>\n",
       "      <td>1.000000</td>\n",
       "      <td>0.750445</td>\n",
       "    </tr>\n",
       "    <tr>\n",
       "      <th>30_day_rolling_vol</th>\n",
       "      <td>0.750445</td>\n",
       "      <td>1.000000</td>\n",
       "    </tr>\n",
       "  </tbody>\n",
       "</table>\n",
       "</div>"
      ],
      "text/plain": [
       "                       Close  30_day_rolling_vol\n",
       "Close               1.000000            0.750445\n",
       "30_day_rolling_vol  0.750445            1.000000"
      ]
     },
     "execution_count": 55,
     "metadata": {},
     "output_type": "execute_result"
    }
   ],
   "source": [
    "# Correlation between the 30-day rolling volume and the closing price\n",
    "data[['Close', '30_day_rolling_vol']].corr()"
   ]
  },
  {
   "cell_type": "markdown",
   "id": "224d14e7",
   "metadata": {},
   "source": [
    "# Data Manipulation"
   ]
  },
  {
   "cell_type": "code",
   "execution_count": null,
   "id": "58c865fb",
   "metadata": {},
   "outputs": [],
   "source": []
  }
 ],
 "metadata": {
  "kernelspec": {
   "display_name": "venv",
   "language": "python",
   "name": "python3"
  },
  "language_info": {
   "codemirror_mode": {
    "name": "ipython",
    "version": 3
   },
   "file_extension": ".py",
   "mimetype": "text/x-python",
   "name": "python",
   "nbconvert_exporter": "python",
   "pygments_lexer": "ipython3",
   "version": "3.12.1"
  }
 },
 "nbformat": 4,
 "nbformat_minor": 5
}
