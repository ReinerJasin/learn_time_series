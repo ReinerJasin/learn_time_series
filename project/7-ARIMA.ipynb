{
 "cells": [
  {
   "cell_type": "markdown",
   "id": "27437e2e",
   "metadata": {},
   "source": [
    "# ARIMA MODEL"
   ]
  },
  {
   "cell_type": "markdown",
   "id": "4135631a",
   "metadata": {},
   "source": [
    "ARIMA Stands for:\n",
    "* A = Auto\n",
    "* R = Regressive\n",
    "* I = Integrated\n",
    "* M = Moving\n",
    "* A = Average\n",
    "\n",
    "ARIMA, SARIMA, and SARIMAX are relatives. each have their own special way in handling data. But, ARIMA is the foundation of those 3 models."
   ]
  },
  {
   "cell_type": "markdown",
   "id": "eb6a1275",
   "metadata": {},
   "source": []
  }
 ],
 "metadata": {
  "language_info": {
   "name": "python"
  }
 },
 "nbformat": 4,
 "nbformat_minor": 5
}
