{
 "cells": [
  {
   "cell_type": "markdown",
   "id": "06f1190d",
   "metadata": {},
   "source": [
    "# The challenge in Forecasting\n",
    "\n",
    "Differentiating between trends & seasonality is quite simple. What makes it hard is in modeling and interpreting errors. (explaining and integrating relevant factors, or regressors ti improve predictions)"
   ]
  },
  {
   "cell_type": "markdown",
   "id": "78a1bdd4",
   "metadata": {},
   "source": [
    "## What might these includes?\n",
    "\n",
    "diverse elements: events, temperatures, variations, snowfall, prevailing economic conditions, and even public sentiment. Each of these can influence forecasting accuracy."
   ]
  },
  {
   "cell_type": "markdown",
   "id": "d8167bf3",
   "metadata": {},
   "source": [
    "## The Data Engineering Problem\n",
    "\n",
    "When it comes to relevance, the time horizon of data is very crucial.\n",
    "\n",
    "Let's say we have data that spans over 6 or 7 years. Do we need all of it? or will the older data would just bring noise to the model? Past occurence may not reflect present or future. Thus, always assess whether your data is still representative of future trends, and if not, be wise to exclude it from the analysis."
   ]
  },
  {
   "cell_type": "markdown",
   "id": "981e7671",
   "metadata": {},
   "source": [
    "## Stock Market Prediction\n",
    "\n",
    "Although there are articles claiming high returns using various approaches and algorithms. But it is still doubtfull to think that these methods can outperform professional investment firms. The prices movement might suggest a trend, but it is incredibly challenging to predict when these trends will reverse. If there's no discerning pattern, traditional forecasting models struggle.\n",
    "\n",
    "One example is when the covid-19 pandemic appear in 2020. The pandemic disrupted established trends and seasonal patterns badly. It shows how unforeseen external events can change market dynamics drastically.\n"
   ]
  },
  {
   "cell_type": "markdown",
   "id": "d98278c5",
   "metadata": {},
   "source": [
    "## Summary\n",
    "\n",
    "Forecasting especially in the context of stock data is a complex art that requires careful considerations of various factors including the relevancy of the data, error modeling, and external influences."
   ]
  },
  {
   "cell_type": "markdown",
   "id": "0c1ed282",
   "metadata": {},
   "source": []
  }
 ],
 "metadata": {
  "language_info": {
   "name": "python"
  }
 },
 "nbformat": 4,
 "nbformat_minor": 5
}
